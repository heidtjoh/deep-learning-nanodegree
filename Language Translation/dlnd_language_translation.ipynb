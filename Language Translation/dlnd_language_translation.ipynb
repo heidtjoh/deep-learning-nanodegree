{
 "cells": [
  {
   "cell_type": "markdown",
   "metadata": {
    "collapsed": true
   },
   "source": [
    "# Language Translation\n",
    "In this project, you’re going to take a peek into the realm of neural network machine translation.  You’ll be training a sequence to sequence model on a dataset of English and French sentences that can translate new sentences from English to French.\n",
    "## Get the Data\n",
    "Since translating the whole language of English to French will take lots of time to train, we have provided you with a small portion of the English corpus."
   ]
  },
  {
   "cell_type": "code",
   "execution_count": 1,
   "metadata": {
    "collapsed": true
   },
   "outputs": [],
   "source": [
    "\"\"\"\n",
    "DON'T MODIFY ANYTHING IN THIS CELL\n",
    "\"\"\"\n",
    "import helper\n",
    "import problem_unittests as tests\n",
    "\n",
    "source_path = 'data/small_vocab_en'\n",
    "target_path = 'data/small_vocab_fr'\n",
    "source_text = helper.load_data(source_path)\n",
    "target_text = helper.load_data(target_path)"
   ]
  },
  {
   "cell_type": "markdown",
   "metadata": {},
   "source": [
    "## Explore the Data\n",
    "Play around with view_sentence_range to view different parts of the data."
   ]
  },
  {
   "cell_type": "code",
   "execution_count": 2,
   "metadata": {},
   "outputs": [
    {
     "name": "stdout",
     "output_type": "stream",
     "text": [
      "Dataset Stats\n",
      "Roughly the number of unique words: 227\n",
      "Number of sentences: 137861\n",
      "Average number of words in a sentence: 13.225277634719028\n",
      "\n",
      "English sentences 0 to 10:\n",
      "new jersey is sometimes quiet during autumn , and it is snowy in april .\n",
      "the united states is usually chilly during july , and it is usually freezing in november .\n",
      "california is usually quiet during march , and it is usually hot in june .\n",
      "the united states is sometimes mild during june , and it is cold in september .\n",
      "your least liked fruit is the grape , but my least liked is the apple .\n",
      "his favorite fruit is the orange , but my favorite is the grape .\n",
      "paris is relaxing during december , but it is usually chilly in july .\n",
      "new jersey is busy during spring , and it is never hot in march .\n",
      "our least liked fruit is the lemon , but my least liked is the grape .\n",
      "the united states is sometimes busy during january , and it is sometimes warm in november .\n",
      "\n",
      "French sentences 0 to 10:\n",
      "new jersey est parfois calme pendant l' automne , et il est neigeux en avril .\n",
      "les états-unis est généralement froid en juillet , et il gèle habituellement en novembre .\n",
      "california est généralement calme en mars , et il est généralement chaud en juin .\n",
      "les états-unis est parfois légère en juin , et il fait froid en septembre .\n",
      "votre moins aimé fruit est le raisin , mais mon moins aimé est la pomme .\n",
      "son fruit préféré est l'orange , mais mon préféré est le raisin .\n",
      "paris est relaxant en décembre , mais il est généralement froid en juillet .\n",
      "new jersey est occupé au printemps , et il est jamais chaude en mars .\n",
      "notre fruit est moins aimé le citron , mais mon moins aimé est le raisin .\n",
      "les états-unis est parfois occupé en janvier , et il est parfois chaud en novembre .\n"
     ]
    }
   ],
   "source": [
    "view_sentence_range = (0, 10)\n",
    "\n",
    "\"\"\"\n",
    "DON'T MODIFY ANYTHING IN THIS CELL\n",
    "\"\"\"\n",
    "import numpy as np\n",
    "\n",
    "print('Dataset Stats')\n",
    "print('Roughly the number of unique words: {}'.format(len({word: None for word in source_text.split()})))\n",
    "\n",
    "sentences = source_text.split('\\n')\n",
    "word_counts = [len(sentence.split()) for sentence in sentences]\n",
    "print('Number of sentences: {}'.format(len(sentences)))\n",
    "print('Average number of words in a sentence: {}'.format(np.average(word_counts)))\n",
    "\n",
    "print()\n",
    "print('English sentences {} to {}:'.format(*view_sentence_range))\n",
    "print('\\n'.join(source_text.split('\\n')[view_sentence_range[0]:view_sentence_range[1]]))\n",
    "print()\n",
    "print('French sentences {} to {}:'.format(*view_sentence_range))\n",
    "print('\\n'.join(target_text.split('\\n')[view_sentence_range[0]:view_sentence_range[1]]))"
   ]
  },
  {
   "cell_type": "markdown",
   "metadata": {},
   "source": [
    "## Implement Preprocessing Function\n",
    "### Text to Word Ids\n",
    "As you did with other RNNs, you must turn the text into a number so the computer can understand it. In the function `text_to_ids()`, you'll turn `source_text` and `target_text` from words to ids.  However, you need to add the `<EOS>` word id at the end of `target_text`.  This will help the neural network predict when the sentence should end.\n",
    "\n",
    "You can get the `<EOS>` word id by doing:\n",
    "```python\n",
    "target_vocab_to_int['<EOS>']\n",
    "```\n",
    "You can get other word ids using `source_vocab_to_int` and `target_vocab_to_int`."
   ]
  },
  {
   "cell_type": "code",
   "execution_count": 11,
   "metadata": {},
   "outputs": [
    {
     "name": "stdout",
     "output_type": "stream",
     "text": [
      "Tests Passed\n"
     ]
    }
   ],
   "source": [
    "def text_to_ids(source_text, target_text, source_vocab_to_int, target_vocab_to_int):\n",
    "    \"\"\"\n",
    "    Convert source and target text to proper word ids\n",
    "    :param source_text: String that contains all the source text.\n",
    "    :param target_text: String that contains all the target text.\n",
    "    :param source_vocab_to_int: Dictionary to go from the source words to an id\n",
    "    :param target_vocab_to_int: Dictionary to go from the target words to an id\n",
    "    :return: A tuple of lists (source_id_text, target_id_text)\n",
    "    \"\"\"\n",
    "    # TODO: Implement Function\n",
    "    source_id_text = [[source_vocab_to_int[word] for word in (line).split()] for line in source_text.split('\\n')]\n",
    "    target_id_text = [[target_vocab_to_int[word] for word in (line + ' <EOS>').split()] for line in target_text.split('\\n')]\n",
    "    \n",
    "    return (source_id_text, target_id_text)\n",
    "\n",
    "\"\"\"\n",
    "DON'T MODIFY ANYTHING IN THIS CELL THAT IS BELOW THIS LINE\n",
    "\"\"\"\n",
    "tests.test_text_to_ids(text_to_ids)"
   ]
  },
  {
   "cell_type": "markdown",
   "metadata": {},
   "source": [
    "### Preprocess all the data and save it\n",
    "Running the code cell below will preprocess all the data and save it to file."
   ]
  },
  {
   "cell_type": "code",
   "execution_count": 12,
   "metadata": {
    "collapsed": true
   },
   "outputs": [],
   "source": [
    "\"\"\"\n",
    "DON'T MODIFY ANYTHING IN THIS CELL\n",
    "\"\"\"\n",
    "helper.preprocess_and_save_data(source_path, target_path, text_to_ids)"
   ]
  },
  {
   "cell_type": "markdown",
   "metadata": {},
   "source": [
    "# Check Point\n",
    "This is your first checkpoint. If you ever decide to come back to this notebook or have to restart the notebook, you can start from here. The preprocessed data has been saved to disk."
   ]
  },
  {
   "cell_type": "code",
   "execution_count": 1,
   "metadata": {
    "collapsed": true
   },
   "outputs": [],
   "source": [
    "\"\"\"\n",
    "DON'T MODIFY ANYTHING IN THIS CELL\n",
    "\"\"\"\n",
    "import numpy as np\n",
    "import helper\n",
    "import problem_unittests as tests\n",
    "\n",
    "(source_int_text, target_int_text), (source_vocab_to_int, target_vocab_to_int), _ = helper.load_preprocess()"
   ]
  },
  {
   "cell_type": "markdown",
   "metadata": {},
   "source": [
    "### Check the Version of TensorFlow and Access to GPU\n",
    "This will check to make sure you have the correct version of TensorFlow and access to a GPU"
   ]
  },
  {
   "cell_type": "code",
   "execution_count": 2,
   "metadata": {},
   "outputs": [
    {
     "name": "stdout",
     "output_type": "stream",
     "text": [
      "TensorFlow Version: 1.1.0\n",
      "Default GPU Device: /gpu:0\n"
     ]
    }
   ],
   "source": [
    "\"\"\"\n",
    "DON'T MODIFY ANYTHING IN THIS CELL\n",
    "\"\"\"\n",
    "from distutils.version import LooseVersion\n",
    "import warnings\n",
    "import tensorflow as tf\n",
    "from tensorflow.python.layers.core import Dense\n",
    "\n",
    "# Check TensorFlow Version\n",
    "assert LooseVersion(tf.__version__) >= LooseVersion('1.1'), 'Please use TensorFlow version 1.1 or newer'\n",
    "print('TensorFlow Version: {}'.format(tf.__version__))\n",
    "\n",
    "# Check for a GPU\n",
    "if not tf.test.gpu_device_name():\n",
    "    warnings.warn('No GPU found. Please use a GPU to train your neural network.')\n",
    "else:\n",
    "    print('Default GPU Device: {}'.format(tf.test.gpu_device_name()))"
   ]
  },
  {
   "cell_type": "markdown",
   "metadata": {},
   "source": [
    "## Build the Neural Network\n",
    "You'll build the components necessary to build a Sequence-to-Sequence model by implementing the following functions below:\n",
    "- `model_inputs`\n",
    "- `process_decoder_input`\n",
    "- `encoding_layer`\n",
    "- `decoding_layer_train`\n",
    "- `decoding_layer_infer`\n",
    "- `decoding_layer`\n",
    "- `seq2seq_model`\n",
    "\n",
    "### Input\n",
    "Implement the `model_inputs()` function to create TF Placeholders for the Neural Network. It should create the following placeholders:\n",
    "\n",
    "- Input text placeholder named \"input\" using the TF Placeholder name parameter with rank 2.\n",
    "- Targets placeholder with rank 2.\n",
    "- Learning rate placeholder with rank 0.\n",
    "- Keep probability placeholder named \"keep_prob\" using the TF Placeholder name parameter with rank 0.\n",
    "- Target sequence length placeholder named \"target_sequence_length\" with rank 1\n",
    "- Max target sequence length tensor named \"max_target_len\" getting its value from applying tf.reduce_max on the target_sequence_length placeholder. Rank 0.\n",
    "- Source sequence length placeholder named \"source_sequence_length\" with rank 1\n",
    "\n",
    "Return the placeholders in the following the tuple (input, targets, learning rate, keep probability, target sequence length, max target sequence length, source sequence length)"
   ]
  },
  {
   "cell_type": "code",
   "execution_count": 3,
   "metadata": {},
   "outputs": [
    {
     "name": "stdout",
     "output_type": "stream",
     "text": [
      "Tests Passed\n"
     ]
    }
   ],
   "source": [
    "def model_inputs():\n",
    "    \"\"\"\n",
    "    Create TF Placeholders for input, targets, learning rate, and lengths of source and target sequences.\n",
    "    :return: Tuple (input, targets, learning rate, keep probability, target sequence length,\n",
    "    max target sequence length, source sequence length)\n",
    "    \"\"\"\n",
    "    # TODO: Implement Function\n",
    "    \n",
    "    input = tf.placeholder(tf.int32, [None,None], name='input')\n",
    "    targets = tf.placeholder(tf.int32, [None,None], name='targets')\n",
    "    learning_rate = tf.placeholder(tf.float32, name='learning_rate')\n",
    "    keep_prob = tf.placeholder(tf.float32, name='keep_prob')\n",
    "    target_sequence_length = tf.placeholder(tf.int32, (None,), name='target_sequence_length')\n",
    "    max_target_sequence_length = tf.reduce_max(target_sequence_length, name='max_target_len')\n",
    "    source_sequence_length = tf.placeholder(tf.int32, [None], name='source_sequence_length')\n",
    "\n",
    "    return (input, targets, learning_rate, keep_prob, target_sequence_length, max_target_sequence_length, source_sequence_length)\n",
    "\n",
    "\n",
    "\"\"\"\n",
    "DON'T MODIFY ANYTHING IN THIS CELL THAT IS BELOW THIS LINE\n",
    "\"\"\"\n",
    "tests.test_model_inputs(model_inputs)"
   ]
  },
  {
   "cell_type": "markdown",
   "metadata": {},
   "source": [
    "### Process Decoder Input\n",
    "Implement `process_decoder_input` by removing the last word id from each batch in `target_data` and concat the GO ID to the begining of each batch."
   ]
  },
  {
   "cell_type": "code",
   "execution_count": 4,
   "metadata": {},
   "outputs": [
    {
     "name": "stdout",
     "output_type": "stream",
     "text": [
      "Tests Passed\n"
     ]
    }
   ],
   "source": [
    "def process_decoder_input(target_data, target_vocab_to_int, batch_size):\n",
    "    \"\"\"\n",
    "    Preprocess target data for encoding\n",
    "    :param target_data: Target Placehoder\n",
    "    :param target_vocab_to_int: Dictionary to go from the target words to an id\n",
    "    :param batch_size: Batch Size\n",
    "    :return: Preprocessed target data\n",
    "    \"\"\"\n",
    "    # TODO: Implement Function\n",
    "    \n",
    "    ending = tf.strided_slice(target_data, [0, 0], [batch_size, -1], [1, 1])\n",
    "    dec_input = tf.concat([tf.fill([batch_size, 1], target_vocab_to_int['<GO>']), ending], 1)\n",
    "    \n",
    "    return dec_input\n",
    "\n",
    "\"\"\"\n",
    "DON'T MODIFY ANYTHING IN THIS CELL THAT IS BELOW THIS LINE\n",
    "\"\"\"\n",
    "tests.test_process_encoding_input(process_decoder_input)"
   ]
  },
  {
   "cell_type": "markdown",
   "metadata": {},
   "source": [
    "### Encoding\n",
    "Implement `encoding_layer()` to create a Encoder RNN layer:\n",
    " * Embed the encoder input using [`tf.contrib.layers.embed_sequence`](https://www.tensorflow.org/api_docs/python/tf/contrib/layers/embed_sequence)\n",
    " * Construct a [stacked](https://github.com/tensorflow/tensorflow/blob/6947f65a374ebf29e74bb71e36fd82760056d82c/tensorflow/docs_src/tutorials/recurrent.md#stacking-multiple-lstms) [`tf.contrib.rnn.LSTMCell`](https://www.tensorflow.org/api_docs/python/tf/contrib/rnn/LSTMCell) wrapped in a [`tf.contrib.rnn.DropoutWrapper`](https://www.tensorflow.org/api_docs/python/tf/contrib/rnn/DropoutWrapper)\n",
    " * Pass cell and embedded input to [`tf.nn.dynamic_rnn()`](https://www.tensorflow.org/api_docs/python/tf/nn/dynamic_rnn)"
   ]
  },
  {
   "cell_type": "code",
   "execution_count": 5,
   "metadata": {
    "scrolled": false
   },
   "outputs": [
    {
     "name": "stdout",
     "output_type": "stream",
     "text": [
      "Tests Passed\n"
     ]
    }
   ],
   "source": [
    "from imp import reload\n",
    "reload(tests)\n",
    "\n",
    "def encoding_layer(rnn_inputs, rnn_size, num_layers, keep_prob, \n",
    "                   source_sequence_length, source_vocab_size, \n",
    "                   encoding_embedding_size):\n",
    "    \"\"\"\n",
    "    Create encoding layer\n",
    "    :param rnn_inputs: Inputs for the RNN\n",
    "    :param rnn_size: RNN Size\n",
    "    :param num_layers: Number of layers\n",
    "    :param keep_prob: Dropout keep probability\n",
    "    :param source_sequence_length: a list of the lengths of each sequence in the batch\n",
    "    :param source_vocab_size: vocabulary size of source data\n",
    "    :param encoding_embedding_size: embedding size of source data\n",
    "    :return: tuple (RNN output, RNN state)\n",
    "    \"\"\"\n",
    "    # TODO: Implement Function\n",
    "    \n",
    "    enc_embed_input = tf.contrib.layers.embed_sequence(rnn_inputs, source_vocab_size, encoding_embedding_size)\n",
    "\n",
    "    def make_cell(rnn_size):\n",
    "        \n",
    "        enc_cell = tf.contrib.rnn.LSTMCell(rnn_size, initializer=tf.random_uniform_initializer(-0.1, 0.1, seed=2))\n",
    "\n",
    "        return enc_cell\n",
    "    \n",
    "\n",
    "    enc_cell = tf.contrib.rnn.MultiRNNCell([make_cell(rnn_size) for _ in range(num_layers)])\n",
    "    enc_output, encoder_state = tf.nn.dynamic_rnn(enc_cell, enc_embed_input, sequence_length=source_sequence_length, dtype=tf.float32)\n",
    "\n",
    "    return (enc_output, encoder_state)\n",
    "\n",
    "\"\"\"\n",
    "DON'T MODIFY ANYTHING IN THIS CELL THAT IS BELOW THIS LINE\n",
    "\"\"\"\n",
    "tests.test_encoding_layer(encoding_layer)"
   ]
  },
  {
   "cell_type": "markdown",
   "metadata": {},
   "source": [
    "### Decoding - Training\n",
    "Create a training decoding layer:\n",
    "* Create a [`tf.contrib.seq2seq.TrainingHelper`](https://www.tensorflow.org/api_docs/python/tf/contrib/seq2seq/TrainingHelper) \n",
    "* Create a [`tf.contrib.seq2seq.BasicDecoder`](https://www.tensorflow.org/api_docs/python/tf/contrib/seq2seq/BasicDecoder)\n",
    "* Obtain the decoder outputs from [`tf.contrib.seq2seq.dynamic_decode`](https://www.tensorflow.org/api_docs/python/tf/contrib/seq2seq/dynamic_decode)"
   ]
  },
  {
   "cell_type": "code",
   "execution_count": 6,
   "metadata": {},
   "outputs": [
    {
     "name": "stdout",
     "output_type": "stream",
     "text": [
      "Tests Passed\n"
     ]
    }
   ],
   "source": [
    "\n",
    "def decoding_layer_train(encoder_state, dec_cell, dec_embed_input, \n",
    "                         target_sequence_length, max_summary_length, \n",
    "                         output_layer, keep_prob):\n",
    "    \"\"\"\n",
    "    Create a decoding layer for training\n",
    "    :param encoder_state: Encoder State\n",
    "    :param dec_cell: Decoder RNN Cell\n",
    "    :param dec_embed_input: Decoder embedded input\n",
    "    :param target_sequence_length: The lengths of each sequence in the target batch\n",
    "    :param max_summary_length: The length of the longest sequence in the batch\n",
    "    :param output_layer: Function to apply the output layer\n",
    "    :param keep_prob: Dropout keep probability\n",
    "    :return: BasicDecoderOutput containing training logits and sample_id\n",
    "    \"\"\"\n",
    "    # TODO: Implement Function\n",
    "    \n",
    "    training_helper = tf.contrib.seq2seq.TrainingHelper(inputs=dec_embed_input, sequence_length=target_sequence_length, time_major=False)\n",
    "    training_decoder = tf.contrib.seq2seq.BasicDecoder(dec_cell, training_helper, encoder_state, output_layer)\n",
    "    BasicDecoderOutput, _ = tf.contrib.seq2seq.dynamic_decode(training_decoder, impute_finished=True, maximum_iterations=max_summary_length)\n",
    "    \n",
    "    return BasicDecoderOutput\n",
    "\n",
    "\n",
    "\n",
    "\n",
    "\"\"\"\n",
    "DON'T MODIFY ANYTHING IN THIS CELL THAT IS BELOW THIS LINE\n",
    "\"\"\"\n",
    "tests.test_decoding_layer_train(decoding_layer_train)"
   ]
  },
  {
   "cell_type": "markdown",
   "metadata": {},
   "source": [
    "### Decoding - Inference\n",
    "Create inference decoder:\n",
    "* Create a [`tf.contrib.seq2seq.GreedyEmbeddingHelper`](https://www.tensorflow.org/api_docs/python/tf/contrib/seq2seq/GreedyEmbeddingHelper)\n",
    "* Create a [`tf.contrib.seq2seq.BasicDecoder`](https://www.tensorflow.org/api_docs/python/tf/contrib/seq2seq/BasicDecoder)\n",
    "* Obtain the decoder outputs from [`tf.contrib.seq2seq.dynamic_decode`](https://www.tensorflow.org/api_docs/python/tf/contrib/seq2seq/dynamic_decode)"
   ]
  },
  {
   "cell_type": "code",
   "execution_count": 7,
   "metadata": {
    "scrolled": true
   },
   "outputs": [
    {
     "name": "stdout",
     "output_type": "stream",
     "text": [
      "Tests Passed\n"
     ]
    }
   ],
   "source": [
    "def decoding_layer_infer(encoder_state, dec_cell, dec_embeddings, start_of_sequence_id,\n",
    "                         end_of_sequence_id, max_target_sequence_length,\n",
    "                         vocab_size, output_layer, batch_size, keep_prob):\n",
    "    \"\"\"\n",
    "    Create a decoding layer for inference\n",
    "    :param encoder_state: Encoder state\n",
    "    :param dec_cell: Decoder RNN Cell\n",
    "    :param dec_embeddings: Decoder embeddings\n",
    "    :param start_of_sequence_id: GO ID\n",
    "    :param end_of_sequence_id: EOS Id\n",
    "    :param max_target_sequence_length: Maximum length of target sequences\n",
    "    :param vocab_size: Size of decoder/target vocabulary\n",
    "    :param decoding_scope: TenorFlow Variable Scope for decoding\n",
    "    :param output_layer: Function to apply the output layer\n",
    "    :param batch_size: Batch size\n",
    "    :param keep_prob: Dropout keep probability\n",
    "    :return: BasicDecoderOutput containing inference logits and sample_id\n",
    "    \"\"\"\n",
    "    # TODO: Implement Function\n",
    "    \n",
    "    with tf.variable_scope(\"decode\", reuse=None):\n",
    "        start_tokens = tf.tile(tf.constant([start_of_sequence_id], dtype=tf.int32), [batch_size], name='start_tokens')\n",
    "        inference_helper = tf.contrib.seq2seq.GreedyEmbeddingHelper(dec_embeddings, start_tokens, end_of_sequence_id)\n",
    "        inference_decoder = tf.contrib.seq2seq.BasicDecoder(dec_cell, inference_helper, encoder_state, output_layer)\n",
    "        inference_decoder_output, _ = tf.contrib.seq2seq.dynamic_decode(inference_decoder, impute_finished=True, maximum_iterations=max_target_sequence_length)\n",
    "         \n",
    "    return inference_decoder_output\n",
    "\n",
    "\n",
    "\n",
    "\"\"\"\n",
    "DON'T MODIFY ANYTHING IN THIS CELL THAT IS BELOW THIS LINE\n",
    "\"\"\"\n",
    "tests.test_decoding_layer_infer(decoding_layer_infer)"
   ]
  },
  {
   "cell_type": "markdown",
   "metadata": {},
   "source": [
    "### Build the Decoding Layer\n",
    "Implement `decoding_layer()` to create a Decoder RNN layer.\n",
    "\n",
    "* Embed the target sequences\n",
    "* Construct the decoder LSTM cell (just like you constructed the encoder cell above)\n",
    "* Create an output layer to map the outputs of the decoder to the elements of our vocabulary\n",
    "* Use the your `decoding_layer_train(encoder_state, dec_cell, dec_embed_input, target_sequence_length, max_target_sequence_length, output_layer, keep_prob)` function to get the training logits.\n",
    "* Use your `decoding_layer_infer(encoder_state, dec_cell, dec_embeddings, start_of_sequence_id, end_of_sequence_id, max_target_sequence_length, vocab_size, output_layer, batch_size, keep_prob)` function to get the inference logits.\n",
    "\n",
    "Note: You'll need to use [tf.variable_scope](https://www.tensorflow.org/api_docs/python/tf/variable_scope) to share variables between training and inference."
   ]
  },
  {
   "cell_type": "code",
   "execution_count": 8,
   "metadata": {},
   "outputs": [
    {
     "name": "stdout",
     "output_type": "stream",
     "text": [
      "Tests Passed\n"
     ]
    }
   ],
   "source": [
    "def decoding_layer(dec_input, encoder_state,\n",
    "                   target_sequence_length, max_target_sequence_length,\n",
    "                   rnn_size,\n",
    "                   num_layers, target_vocab_to_int, target_vocab_size,\n",
    "                   batch_size, keep_prob, decoding_embedding_size):\n",
    "    \"\"\"\n",
    "    Create decoding layer\n",
    "    :param dec_input: Decoder input\n",
    "    :param encoder_state: Encoder state\n",
    "    :param target_sequence_length: The lengths of each sequence in the target batch\n",
    "    :param max_target_sequence_length: Maximum length of target sequences\n",
    "    :param rnn_size: RNN Size\n",
    "    :param num_layers: Number of layers\n",
    "    :param target_vocab_to_int: Dictionary to go from the target words to an id\n",
    "    :param target_vocab_size: Size of target vocabulary\n",
    "    :param batch_size: The size of the batch\n",
    "    :param keep_prob: Dropout keep probability\n",
    "    :param decoding_embedding_size: Decoding embedding size\n",
    "    :return: Tuple of (Training BasicDecoderOutput, Inference BasicDecoderOutput)\n",
    "    \"\"\"\n",
    "    # TODO: Implement Function\n",
    "    \n",
    "    # Embed the target sequences\n",
    "    dec_embeddings = tf.Variable(tf.random_uniform([target_vocab_size, decoding_embedding_size]))\n",
    "    dec_embed_inputs = tf.nn.embedding_lookup(dec_embeddings, dec_input)\n",
    "\n",
    "    # Construct the decoder LSTM cell\n",
    "    def make_cell(rnn_size):\n",
    "        dec_cell = tf.contrib.rnn.LSTMCell(rnn_size, initializer=tf.random_uniform_initializer(-0.1, 0.1, seed=2))\n",
    "        return dec_cell\n",
    "    dec_cell = tf.contrib.rnn.MultiRNNCell([make_cell(rnn_size) for _ in range(num_layers)])\n",
    "\n",
    "    # Create an output layer to map the outputs of the decoder to the elements of our vocabulary\n",
    "    output_layer = Dense(target_vocab_size, kernel_initializer = tf.truncated_normal_initializer(mean = 0.0, stddev=0.1))\n",
    "\n",
    "\n",
    "    with tf.variable_scope(\"decode\"):\n",
    "        training_helper = tf.contrib.seq2seq.TrainingHelper(inputs=dec_embed_inputs, sequence_length=target_sequence_length, time_major=False)\n",
    "        training_decoder = tf.contrib.seq2seq.BasicDecoder(dec_cell, training_helper, encoder_state, output_layer) \n",
    "        training_decoder_output, _ = tf.contrib.seq2seq.dynamic_decode(training_decoder, impute_finished=True, maximum_iterations=max_target_sequence_length)\n",
    "    \n",
    "    with tf.variable_scope(\"decode\", reuse=True):\n",
    "        start_tokens = tf.tile(tf.constant([target_vocab_to_int['<GO>']], dtype=tf.int32), [batch_size], name='start_tokens')\n",
    "        inference_helper = tf.contrib.seq2seq.GreedyEmbeddingHelper(dec_embeddings, start_tokens, target_vocab_to_int['<EOS>'])\n",
    "        inference_decoder = tf.contrib.seq2seq.BasicDecoder(dec_cell, inference_helper, encoder_state, output_layer)\n",
    "        inference_decoder_output, _ = tf.contrib.seq2seq.dynamic_decode(inference_decoder, impute_finished=True, maximum_iterations=max_target_sequence_length)\n",
    "\n",
    "        \n",
    "    return (training_decoder_output, inference_decoder_output)\n",
    "\n",
    "\n",
    "\n",
    "\"\"\"\n",
    "DON'T MODIFY ANYTHING IN THIS CELL THAT IS BELOW THIS LINE\n",
    "\"\"\"\n",
    "tests.test_decoding_layer(decoding_layer)"
   ]
  },
  {
   "cell_type": "markdown",
   "metadata": {},
   "source": [
    "### Build the Neural Network\n",
    "Apply the functions you implemented above to:\n",
    "\n",
    "- Encode the input using your `encoding_layer(rnn_inputs, rnn_size, num_layers, keep_prob,  source_sequence_length, source_vocab_size, encoding_embedding_size)`.\n",
    "- Process target data using your `process_decoder_input(target_data, target_vocab_to_int, batch_size)` function.\n",
    "- Decode the encoded input using your `decoding_layer(dec_input, enc_state, target_sequence_length, max_target_sentence_length, rnn_size, num_layers, target_vocab_to_int, target_vocab_size, batch_size, keep_prob, dec_embedding_size)` function."
   ]
  },
  {
   "cell_type": "code",
   "execution_count": 9,
   "metadata": {},
   "outputs": [
    {
     "name": "stdout",
     "output_type": "stream",
     "text": [
      "Tests Passed\n"
     ]
    }
   ],
   "source": [
    "def seq2seq_model(input_data, target_data, keep_prob, batch_size,\n",
    "                  source_sequence_length, target_sequence_length,\n",
    "                  max_target_sentence_length,\n",
    "                  source_vocab_size, target_vocab_size,\n",
    "                  enc_embedding_size, dec_embedding_size,\n",
    "                  rnn_size, num_layers, target_vocab_to_int):\n",
    "    \"\"\"\n",
    "    Build the Sequence-to-Sequence part of the neural network\n",
    "    :param input_data: Input placeholder\n",
    "    :param target_data: Target placeholder\n",
    "    :param keep_prob: Dropout keep probability placeholder\n",
    "    :param batch_size: Batch Size\n",
    "    :param source_sequence_length: Sequence Lengths of source sequences in the batch\n",
    "    :param target_sequence_length: Sequence Lengths of target sequences in the batch\n",
    "    :param source_vocab_size: Source vocabulary size\n",
    "    :param target_vocab_size: Target vocabulary size\n",
    "    :param enc_embedding_size: Decoder embedding size\n",
    "    :param dec_embedding_size: Encoder embedding size\n",
    "    :param rnn_size: RNN Size\n",
    "    :param num_layers: Number of layers\n",
    "    :param target_vocab_to_int: Dictionary to go from the target words to an id\n",
    "    :return: Tuple of (Training BasicDecoderOutput, Inference BasicDecoderOutput)\n",
    "    \"\"\"\n",
    "    # TODO: Implement Function\n",
    "    \n",
    "    _, enc_state = encoding_layer(input_data, rnn_size, num_layers, keep_prob, source_sequence_length, source_vocab_size, encoding_embedding_size = enc_embedding_size)\n",
    "    dec_input = process_decoder_input(target_data, target_vocab_to_int, batch_size)\n",
    "    training_decoder_output, inference_decoder_output = decoding_layer(dec_input, enc_state, target_sequence_length, max_target_sentence_length, rnn_size, num_layers, target_vocab_to_int,target_vocab_size, batch_size, keep_prob, dec_embedding_size)\n",
    "\n",
    "    return (training_decoder_output, inference_decoder_output)\n",
    "\n",
    "\n",
    "\"\"\"\n",
    "DON'T MODIFY ANYTHING IN THIS CELL THAT IS BELOW THIS LINE\n",
    "\"\"\"\n",
    "tests.test_seq2seq_model(seq2seq_model)"
   ]
  },
  {
   "cell_type": "markdown",
   "metadata": {},
   "source": [
    "## Neural Network Training\n",
    "### Hyperparameters\n",
    "Tune the following parameters:\n",
    "\n",
    "- Set `epochs` to the number of epochs.\n",
    "- Set `batch_size` to the batch size.\n",
    "- Set `rnn_size` to the size of the RNNs.\n",
    "- Set `num_layers` to the number of layers.\n",
    "- Set `encoding_embedding_size` to the size of the embedding for the encoder.\n",
    "- Set `decoding_embedding_size` to the size of the embedding for the decoder.\n",
    "- Set `learning_rate` to the learning rate.\n",
    "- Set `keep_probability` to the Dropout keep probability\n",
    "- Set `display_step` to state how many steps between each debug output statement"
   ]
  },
  {
   "cell_type": "code",
   "execution_count": 38,
   "metadata": {
    "collapsed": true
   },
   "outputs": [],
   "source": [
    "# Number of Epochs\n",
    "epochs = 40\n",
    "# Batch Size\n",
    "batch_size = 2048\n",
    "# RNN Size\n",
    "rnn_size = 256\n",
    "# Number of Layers\n",
    "num_layers = 2\n",
    "# Embedding Size\n",
    "encoding_embedding_size = 256\n",
    "decoding_embedding_size = 256\n",
    "# Learning Rate\n",
    "learning_rate = 0.0005\n",
    "# Dropout Keep Probability\n",
    "keep_probability = 0.5\n",
    "display_step = 11"
   ]
  },
  {
   "cell_type": "markdown",
   "metadata": {},
   "source": [
    "### Build the Graph\n",
    "Build the graph using the neural network you implemented."
   ]
  },
  {
   "cell_type": "code",
   "execution_count": 39,
   "metadata": {
    "collapsed": true
   },
   "outputs": [],
   "source": [
    "\"\"\"\n",
    "DON'T MODIFY ANYTHING IN THIS CELL\n",
    "\"\"\"\n",
    "save_path = 'checkpoints/dev'\n",
    "(source_int_text, target_int_text), (source_vocab_to_int, target_vocab_to_int), _ = helper.load_preprocess()\n",
    "max_target_sentence_length = max([len(sentence) for sentence in source_int_text])\n",
    "\n",
    "train_graph = tf.Graph()\n",
    "with train_graph.as_default():\n",
    "    input_data, targets, lr, keep_prob, target_sequence_length, max_target_sequence_length, source_sequence_length = model_inputs()\n",
    "\n",
    "    #sequence_length = tf.placeholder_with_default(max_target_sentence_length, None, name='sequence_length')\n",
    "    input_shape = tf.shape(input_data)\n",
    "\n",
    "    train_logits, inference_logits = seq2seq_model(tf.reverse(input_data, [-1]),\n",
    "                                                   targets,\n",
    "                                                   keep_prob,\n",
    "                                                   batch_size,\n",
    "                                                   source_sequence_length,\n",
    "                                                   target_sequence_length,\n",
    "                                                   max_target_sequence_length,\n",
    "                                                   len(source_vocab_to_int),\n",
    "                                                   len(target_vocab_to_int),\n",
    "                                                   encoding_embedding_size,\n",
    "                                                   decoding_embedding_size,\n",
    "                                                   rnn_size,\n",
    "                                                   num_layers,\n",
    "                                                   target_vocab_to_int)\n",
    "\n",
    "\n",
    "    training_logits = tf.identity(train_logits.rnn_output, name='logits')\n",
    "    inference_logits = tf.identity(inference_logits.sample_id, name='predictions')\n",
    "\n",
    "    masks = tf.sequence_mask(target_sequence_length, max_target_sequence_length, dtype=tf.float32, name='masks')\n",
    "\n",
    "    with tf.name_scope(\"optimization\"):\n",
    "        # Loss function\n",
    "        cost = tf.contrib.seq2seq.sequence_loss(\n",
    "            training_logits,\n",
    "            targets,\n",
    "            masks)\n",
    "\n",
    "        # Optimizer\n",
    "        optimizer = tf.train.AdamOptimizer(lr)\n",
    "\n",
    "        # Gradient Clipping\n",
    "        gradients = optimizer.compute_gradients(cost)\n",
    "        capped_gradients = [(tf.clip_by_value(grad, -1., 1.), var) for grad, var in gradients if grad is not None]\n",
    "        train_op = optimizer.apply_gradients(capped_gradients)\n"
   ]
  },
  {
   "cell_type": "markdown",
   "metadata": {},
   "source": [
    "Batch and pad the source and target sequences"
   ]
  },
  {
   "cell_type": "code",
   "execution_count": 40,
   "metadata": {
    "collapsed": true
   },
   "outputs": [],
   "source": [
    "\"\"\"\n",
    "DON'T MODIFY ANYTHING IN THIS CELL\n",
    "\"\"\"\n",
    "def pad_sentence_batch(sentence_batch, pad_int):\n",
    "    \"\"\"Pad sentences with <PAD> so that each sentence of a batch has the same length\"\"\"\n",
    "    max_sentence = max([len(sentence) for sentence in sentence_batch])\n",
    "    return [sentence + [pad_int] * (max_sentence - len(sentence)) for sentence in sentence_batch]\n",
    "\n",
    "\n",
    "def get_batches(sources, targets, batch_size, source_pad_int, target_pad_int):\n",
    "    \"\"\"Batch targets, sources, and the lengths of their sentences together\"\"\"\n",
    "    for batch_i in range(0, len(sources)//batch_size):\n",
    "        start_i = batch_i * batch_size\n",
    "\n",
    "        # Slice the right amount for the batch\n",
    "        sources_batch = sources[start_i:start_i + batch_size]\n",
    "        targets_batch = targets[start_i:start_i + batch_size]\n",
    "\n",
    "        # Pad\n",
    "        pad_sources_batch = np.array(pad_sentence_batch(sources_batch, source_pad_int))\n",
    "        pad_targets_batch = np.array(pad_sentence_batch(targets_batch, target_pad_int))\n",
    "\n",
    "        # Need the lengths for the _lengths parameters\n",
    "        pad_targets_lengths = []\n",
    "        for target in pad_targets_batch:\n",
    "            pad_targets_lengths.append(len(target))\n",
    "\n",
    "        pad_source_lengths = []\n",
    "        for source in pad_sources_batch:\n",
    "            pad_source_lengths.append(len(source))\n",
    "\n",
    "        yield pad_sources_batch, pad_targets_batch, pad_source_lengths, pad_targets_lengths\n"
   ]
  },
  {
   "cell_type": "markdown",
   "metadata": {},
   "source": [
    "### Train\n",
    "Train the neural network on the preprocessed data. If you have a hard time getting a good loss, check the forms to see if anyone is having the same problem."
   ]
  },
  {
   "cell_type": "code",
   "execution_count": 41,
   "metadata": {
    "scrolled": true
   },
   "outputs": [
    {
     "name": "stdout",
     "output_type": "stream",
     "text": [
      "Epoch   0 Batch   11/67 - Train Accuracy: 0.3449, Validation Accuracy: 0.3394, Loss: 3.5114\n",
      "Epoch   0 Batch   22/67 - Train Accuracy: 0.4144, Validation Accuracy: 0.4121, Loss: 2.8438\n",
      "Epoch   0 Batch   33/67 - Train Accuracy: 0.3867, Validation Accuracy: 0.4415, Loss: 2.8056\n",
      "Epoch   0 Batch   44/67 - Train Accuracy: 0.4288, Validation Accuracy: 0.4525, Loss: 2.4881\n",
      "Epoch   0 Batch   55/67 - Train Accuracy: 0.4553, Validation Accuracy: 0.4751, Loss: 2.3034\n",
      "Epoch   1 Batch   11/67 - Train Accuracy: 0.5014, Validation Accuracy: 0.4970, Loss: 1.9276\n",
      "Epoch   1 Batch   22/67 - Train Accuracy: 0.5014, Validation Accuracy: 0.5037, Loss: 1.8149\n",
      "Epoch   1 Batch   33/67 - Train Accuracy: 0.4840, Validation Accuracy: 0.5283, Loss: 1.8878\n",
      "Epoch   1 Batch   44/67 - Train Accuracy: 0.4891, Validation Accuracy: 0.5084, Loss: 1.6969\n",
      "Epoch   1 Batch   55/67 - Train Accuracy: 0.5068, Validation Accuracy: 0.5257, Loss: 1.5728\n",
      "Epoch   2 Batch   11/67 - Train Accuracy: 0.5081, Validation Accuracy: 0.5050, Loss: 1.3444\n",
      "Epoch   2 Batch   22/67 - Train Accuracy: 0.4975, Validation Accuracy: 0.4974, Loss: 1.3256\n",
      "Epoch   2 Batch   33/67 - Train Accuracy: 0.4626, Validation Accuracy: 0.5097, Loss: 1.3711\n",
      "Epoch   2 Batch   44/67 - Train Accuracy: 0.5010, Validation Accuracy: 0.5185, Loss: 1.2471\n",
      "Epoch   2 Batch   55/67 - Train Accuracy: 0.5197, Validation Accuracy: 0.5346, Loss: 1.1831\n",
      "Epoch   3 Batch   11/67 - Train Accuracy: 0.5113, Validation Accuracy: 0.5044, Loss: 1.0283\n",
      "Epoch   3 Batch   22/67 - Train Accuracy: 0.5220, Validation Accuracy: 0.5248, Loss: 1.0045\n",
      "Epoch   3 Batch   33/67 - Train Accuracy: 0.5162, Validation Accuracy: 0.5528, Loss: 1.0531\n",
      "Epoch   3 Batch   44/67 - Train Accuracy: 0.5310, Validation Accuracy: 0.5473, Loss: 0.9611\n",
      "Epoch   3 Batch   55/67 - Train Accuracy: 0.5557, Validation Accuracy: 0.5660, Loss: 0.9155\n",
      "Epoch   4 Batch   11/67 - Train Accuracy: 0.5896, Validation Accuracy: 0.5857, Loss: 0.7961\n",
      "Epoch   4 Batch   22/67 - Train Accuracy: 0.6150, Validation Accuracy: 0.6077, Loss: 0.7787\n",
      "Epoch   4 Batch   33/67 - Train Accuracy: 0.5790, Validation Accuracy: 0.6123, Loss: 0.8306\n",
      "Epoch   4 Batch   44/67 - Train Accuracy: 0.6221, Validation Accuracy: 0.6243, Loss: 0.7660\n",
      "Epoch   4 Batch   55/67 - Train Accuracy: 0.6194, Validation Accuracy: 0.6278, Loss: 0.7319\n",
      "Epoch   5 Batch   11/67 - Train Accuracy: 0.6552, Validation Accuracy: 0.6453, Loss: 0.6500\n",
      "Epoch   5 Batch   22/67 - Train Accuracy: 0.6715, Validation Accuracy: 0.6673, Loss: 0.6358\n",
      "Epoch   5 Batch   33/67 - Train Accuracy: 0.6326, Validation Accuracy: 0.6730, Loss: 0.6854\n",
      "Epoch   5 Batch   44/67 - Train Accuracy: 0.6687, Validation Accuracy: 0.6742, Loss: 0.6318\n",
      "Epoch   5 Batch   55/67 - Train Accuracy: 0.6672, Validation Accuracy: 0.6782, Loss: 0.6069\n",
      "Epoch   6 Batch   11/67 - Train Accuracy: 0.7045, Validation Accuracy: 0.6928, Loss: 0.5403\n",
      "Epoch   6 Batch   22/67 - Train Accuracy: 0.6992, Validation Accuracy: 0.6965, Loss: 0.5288\n",
      "Epoch   6 Batch   33/67 - Train Accuracy: 0.6734, Validation Accuracy: 0.7025, Loss: 0.5784\n",
      "Epoch   6 Batch   44/67 - Train Accuracy: 0.7037, Validation Accuracy: 0.7090, Loss: 0.5347\n",
      "Epoch   6 Batch   55/67 - Train Accuracy: 0.7134, Validation Accuracy: 0.7147, Loss: 0.5070\n",
      "Epoch   7 Batch   11/67 - Train Accuracy: 0.7382, Validation Accuracy: 0.7240, Loss: 0.4481\n",
      "Epoch   7 Batch   22/67 - Train Accuracy: 0.7433, Validation Accuracy: 0.7346, Loss: 0.4451\n",
      "Epoch   7 Batch   33/67 - Train Accuracy: 0.7130, Validation Accuracy: 0.7352, Loss: 0.4881\n",
      "Epoch   7 Batch   44/67 - Train Accuracy: 0.7430, Validation Accuracy: 0.7501, Loss: 0.4418\n",
      "Epoch   7 Batch   55/67 - Train Accuracy: 0.7449, Validation Accuracy: 0.7493, Loss: 0.4199\n",
      "Epoch   8 Batch   11/67 - Train Accuracy: 0.7749, Validation Accuracy: 0.7680, Loss: 0.3727\n",
      "Epoch   8 Batch   22/67 - Train Accuracy: 0.7851, Validation Accuracy: 0.7744, Loss: 0.3605\n",
      "Epoch   8 Batch   33/67 - Train Accuracy: 0.7262, Validation Accuracy: 0.7574, Loss: 0.4201\n",
      "Epoch   8 Batch   44/67 - Train Accuracy: 0.7675, Validation Accuracy: 0.7734, Loss: 0.3730\n",
      "Epoch   8 Batch   55/67 - Train Accuracy: 0.7849, Validation Accuracy: 0.7846, Loss: 0.3462\n",
      "Epoch   9 Batch   11/67 - Train Accuracy: 0.8103, Validation Accuracy: 0.7941, Loss: 0.3011\n",
      "Epoch   9 Batch   22/67 - Train Accuracy: 0.8152, Validation Accuracy: 0.8045, Loss: 0.2937\n",
      "Epoch   9 Batch   33/67 - Train Accuracy: 0.7870, Validation Accuracy: 0.8074, Loss: 0.3144\n",
      "Epoch   9 Batch   44/67 - Train Accuracy: 0.7881, Validation Accuracy: 0.8027, Loss: 0.3004\n",
      "Epoch   9 Batch   55/67 - Train Accuracy: 0.8109, Validation Accuracy: 0.8097, Loss: 0.2783\n",
      "Epoch  10 Batch   11/67 - Train Accuracy: 0.8375, Validation Accuracy: 0.8266, Loss: 0.2415\n",
      "Epoch  10 Batch   22/67 - Train Accuracy: 0.8411, Validation Accuracy: 0.8245, Loss: 0.2354\n",
      "Epoch  10 Batch   33/67 - Train Accuracy: 0.8137, Validation Accuracy: 0.8371, Loss: 0.2511\n",
      "Epoch  10 Batch   44/67 - Train Accuracy: 0.8322, Validation Accuracy: 0.8392, Loss: 0.2323\n",
      "Epoch  10 Batch   55/67 - Train Accuracy: 0.8377, Validation Accuracy: 0.8344, Loss: 0.2257\n",
      "Epoch  11 Batch   11/67 - Train Accuracy: 0.8589, Validation Accuracy: 0.8508, Loss: 0.1897\n",
      "Epoch  11 Batch   22/67 - Train Accuracy: 0.8592, Validation Accuracy: 0.8518, Loss: 0.1958\n",
      "Epoch  11 Batch   33/67 - Train Accuracy: 0.8395, Validation Accuracy: 0.8515, Loss: 0.2059\n",
      "Epoch  11 Batch   44/67 - Train Accuracy: 0.8565, Validation Accuracy: 0.8623, Loss: 0.1889\n",
      "Epoch  11 Batch   55/67 - Train Accuracy: 0.8600, Validation Accuracy: 0.8673, Loss: 0.1768\n",
      "Epoch  12 Batch   11/67 - Train Accuracy: 0.8788, Validation Accuracy: 0.8702, Loss: 0.1528\n",
      "Epoch  12 Batch   22/67 - Train Accuracy: 0.8811, Validation Accuracy: 0.8757, Loss: 0.1531\n",
      "Epoch  12 Batch   33/67 - Train Accuracy: 0.8579, Validation Accuracy: 0.8798, Loss: 0.1684\n",
      "Epoch  12 Batch   44/67 - Train Accuracy: 0.8561, Validation Accuracy: 0.8672, Loss: 0.1633\n",
      "Epoch  12 Batch   55/67 - Train Accuracy: 0.8741, Validation Accuracy: 0.8844, Loss: 0.1524\n",
      "Epoch  13 Batch   11/67 - Train Accuracy: 0.8926, Validation Accuracy: 0.8896, Loss: 0.1253\n",
      "Epoch  13 Batch   22/67 - Train Accuracy: 0.8995, Validation Accuracy: 0.8945, Loss: 0.1274\n",
      "Epoch  13 Batch   33/67 - Train Accuracy: 0.8789, Validation Accuracy: 0.8976, Loss: 0.1383\n",
      "Epoch  13 Batch   44/67 - Train Accuracy: 0.8854, Validation Accuracy: 0.8993, Loss: 0.1259\n",
      "Epoch  13 Batch   55/67 - Train Accuracy: 0.8920, Validation Accuracy: 0.9007, Loss: 0.1207\n",
      "Epoch  14 Batch   11/67 - Train Accuracy: 0.9077, Validation Accuracy: 0.9056, Loss: 0.1037\n",
      "Epoch  14 Batch   22/67 - Train Accuracy: 0.9049, Validation Accuracy: 0.9077, Loss: 0.1068\n",
      "Epoch  14 Batch   33/67 - Train Accuracy: 0.8864, Validation Accuracy: 0.9084, Loss: 0.1173\n",
      "Epoch  14 Batch   44/67 - Train Accuracy: 0.8959, Validation Accuracy: 0.9099, Loss: 0.1075\n",
      "Epoch  14 Batch   55/67 - Train Accuracy: 0.9027, Validation Accuracy: 0.9080, Loss: 0.1023\n",
      "Epoch  15 Batch   11/67 - Train Accuracy: 0.9165, Validation Accuracy: 0.9109, Loss: 0.0886\n",
      "Epoch  15 Batch   22/67 - Train Accuracy: 0.9144, Validation Accuracy: 0.9150, Loss: 0.0918\n",
      "Epoch  15 Batch   33/67 - Train Accuracy: 0.8956, Validation Accuracy: 0.9177, Loss: 0.1013\n",
      "Epoch  15 Batch   44/67 - Train Accuracy: 0.9051, Validation Accuracy: 0.9169, Loss: 0.0928\n",
      "Epoch  15 Batch   55/67 - Train Accuracy: 0.9116, Validation Accuracy: 0.9178, Loss: 0.0889\n",
      "Epoch  16 Batch   11/67 - Train Accuracy: 0.9211, Validation Accuracy: 0.9156, Loss: 0.0775\n",
      "Epoch  16 Batch   22/67 - Train Accuracy: 0.9192, Validation Accuracy: 0.9218, Loss: 0.0803\n",
      "Epoch  16 Batch   33/67 - Train Accuracy: 0.9031, Validation Accuracy: 0.9215, Loss: 0.0892\n",
      "Epoch  16 Batch   44/67 - Train Accuracy: 0.9110, Validation Accuracy: 0.9222, Loss: 0.0821\n",
      "Epoch  16 Batch   55/67 - Train Accuracy: 0.9177, Validation Accuracy: 0.9239, Loss: 0.0789\n",
      "Epoch  17 Batch   11/67 - Train Accuracy: 0.9260, Validation Accuracy: 0.9193, Loss: 0.0685\n",
      "Epoch  17 Batch   22/67 - Train Accuracy: 0.9278, Validation Accuracy: 0.9237, Loss: 0.0714\n",
      "Epoch  17 Batch   33/67 - Train Accuracy: 0.9115, Validation Accuracy: 0.9187, Loss: 0.0777\n",
      "Epoch  17 Batch   44/67 - Train Accuracy: 0.9181, Validation Accuracy: 0.9308, Loss: 0.0727\n",
      "Epoch  17 Batch   55/67 - Train Accuracy: 0.9232, Validation Accuracy: 0.9264, Loss: 0.0698\n"
     ]
    },
    {
     "name": "stdout",
     "output_type": "stream",
     "text": [
      "Epoch  18 Batch   11/67 - Train Accuracy: 0.9310, Validation Accuracy: 0.9267, Loss: 0.0611\n",
      "Epoch  18 Batch   22/67 - Train Accuracy: 0.9316, Validation Accuracy: 0.9295, Loss: 0.0644\n",
      "Epoch  18 Batch   33/67 - Train Accuracy: 0.9145, Validation Accuracy: 0.9253, Loss: 0.0691\n",
      "Epoch  18 Batch   44/67 - Train Accuracy: 0.9220, Validation Accuracy: 0.9323, Loss: 0.0658\n",
      "Epoch  18 Batch   55/67 - Train Accuracy: 0.9289, Validation Accuracy: 0.9319, Loss: 0.0634\n",
      "Epoch  19 Batch   11/67 - Train Accuracy: 0.9349, Validation Accuracy: 0.9317, Loss: 0.0551\n",
      "Epoch  19 Batch   22/67 - Train Accuracy: 0.9361, Validation Accuracy: 0.9337, Loss: 0.0583\n",
      "Epoch  19 Batch   33/67 - Train Accuracy: 0.9199, Validation Accuracy: 0.9302, Loss: 0.0628\n",
      "Epoch  19 Batch   44/67 - Train Accuracy: 0.9257, Validation Accuracy: 0.9368, Loss: 0.0600\n",
      "Epoch  19 Batch   55/67 - Train Accuracy: 0.9346, Validation Accuracy: 0.9363, Loss: 0.0582\n",
      "Epoch  20 Batch   11/67 - Train Accuracy: 0.9377, Validation Accuracy: 0.9346, Loss: 0.0506\n",
      "Epoch  20 Batch   22/67 - Train Accuracy: 0.9403, Validation Accuracy: 0.9357, Loss: 0.0531\n",
      "Epoch  20 Batch   33/67 - Train Accuracy: 0.9260, Validation Accuracy: 0.9354, Loss: 0.0576\n",
      "Epoch  20 Batch   44/67 - Train Accuracy: 0.9299, Validation Accuracy: 0.9393, Loss: 0.0551\n",
      "Epoch  20 Batch   55/67 - Train Accuracy: 0.9354, Validation Accuracy: 0.9404, Loss: 0.0540\n",
      "Epoch  21 Batch   11/67 - Train Accuracy: 0.9402, Validation Accuracy: 0.9377, Loss: 0.0467\n",
      "Epoch  21 Batch   22/67 - Train Accuracy: 0.9427, Validation Accuracy: 0.9383, Loss: 0.0490\n",
      "Epoch  21 Batch   33/67 - Train Accuracy: 0.9306, Validation Accuracy: 0.9393, Loss: 0.0527\n",
      "Epoch  21 Batch   44/67 - Train Accuracy: 0.9335, Validation Accuracy: 0.9436, Loss: 0.0506\n",
      "Epoch  21 Batch   55/67 - Train Accuracy: 0.9387, Validation Accuracy: 0.9419, Loss: 0.0497\n",
      "Epoch  22 Batch   11/67 - Train Accuracy: 0.9442, Validation Accuracy: 0.9433, Loss: 0.0436\n",
      "Epoch  22 Batch   22/67 - Train Accuracy: 0.9437, Validation Accuracy: 0.9411, Loss: 0.0456\n",
      "Epoch  22 Batch   33/67 - Train Accuracy: 0.9353, Validation Accuracy: 0.9403, Loss: 0.0488\n",
      "Epoch  22 Batch   44/67 - Train Accuracy: 0.9351, Validation Accuracy: 0.9453, Loss: 0.0468\n",
      "Epoch  22 Batch   55/67 - Train Accuracy: 0.9406, Validation Accuracy: 0.9449, Loss: 0.0463\n",
      "Epoch  23 Batch   11/67 - Train Accuracy: 0.9448, Validation Accuracy: 0.9422, Loss: 0.0405\n",
      "Epoch  23 Batch   22/67 - Train Accuracy: 0.9468, Validation Accuracy: 0.9421, Loss: 0.0422\n",
      "Epoch  23 Batch   33/67 - Train Accuracy: 0.9371, Validation Accuracy: 0.9409, Loss: 0.0455\n",
      "Epoch  23 Batch   44/67 - Train Accuracy: 0.9380, Validation Accuracy: 0.9469, Loss: 0.0437\n",
      "Epoch  23 Batch   55/67 - Train Accuracy: 0.9441, Validation Accuracy: 0.9472, Loss: 0.0431\n",
      "Epoch  24 Batch   11/67 - Train Accuracy: 0.9458, Validation Accuracy: 0.9429, Loss: 0.0378\n",
      "Epoch  24 Batch   22/67 - Train Accuracy: 0.9490, Validation Accuracy: 0.9443, Loss: 0.0395\n",
      "Epoch  24 Batch   33/67 - Train Accuracy: 0.9397, Validation Accuracy: 0.9420, Loss: 0.0425\n",
      "Epoch  24 Batch   44/67 - Train Accuracy: 0.9406, Validation Accuracy: 0.9523, Loss: 0.0405\n",
      "Epoch  24 Batch   55/67 - Train Accuracy: 0.9460, Validation Accuracy: 0.9501, Loss: 0.0406\n",
      "Epoch  25 Batch   11/67 - Train Accuracy: 0.9468, Validation Accuracy: 0.9474, Loss: 0.0352\n",
      "Epoch  25 Batch   22/67 - Train Accuracy: 0.9557, Validation Accuracy: 0.9520, Loss: 0.0376\n",
      "Epoch  25 Batch   33/67 - Train Accuracy: 0.9465, Validation Accuracy: 0.9518, Loss: 0.0396\n",
      "Epoch  25 Batch   44/67 - Train Accuracy: 0.9420, Validation Accuracy: 0.9545, Loss: 0.0379\n",
      "Epoch  25 Batch   55/67 - Train Accuracy: 0.9481, Validation Accuracy: 0.9528, Loss: 0.0379\n",
      "Epoch  26 Batch   11/67 - Train Accuracy: 0.9504, Validation Accuracy: 0.9497, Loss: 0.0333\n",
      "Epoch  26 Batch   22/67 - Train Accuracy: 0.9592, Validation Accuracy: 0.9549, Loss: 0.0348\n",
      "Epoch  26 Batch   33/67 - Train Accuracy: 0.9491, Validation Accuracy: 0.9546, Loss: 0.0378\n",
      "Epoch  26 Batch   44/67 - Train Accuracy: 0.9441, Validation Accuracy: 0.9548, Loss: 0.0361\n",
      "Epoch  26 Batch   55/67 - Train Accuracy: 0.9487, Validation Accuracy: 0.9549, Loss: 0.0358\n",
      "Epoch  27 Batch   11/67 - Train Accuracy: 0.9511, Validation Accuracy: 0.9526, Loss: 0.0311\n",
      "Epoch  27 Batch   22/67 - Train Accuracy: 0.9599, Validation Accuracy: 0.9559, Loss: 0.0323\n",
      "Epoch  27 Batch   33/67 - Train Accuracy: 0.9531, Validation Accuracy: 0.9548, Loss: 0.0348\n",
      "Epoch  27 Batch   44/67 - Train Accuracy: 0.9469, Validation Accuracy: 0.9557, Loss: 0.0340\n",
      "Epoch  27 Batch   55/67 - Train Accuracy: 0.9505, Validation Accuracy: 0.9549, Loss: 0.0334\n",
      "Epoch  28 Batch   11/67 - Train Accuracy: 0.9552, Validation Accuracy: 0.9537, Loss: 0.0293\n",
      "Epoch  28 Batch   22/67 - Train Accuracy: 0.9612, Validation Accuracy: 0.9585, Loss: 0.0303\n",
      "Epoch  28 Batch   33/67 - Train Accuracy: 0.9553, Validation Accuracy: 0.9563, Loss: 0.0326\n",
      "Epoch  28 Batch   44/67 - Train Accuracy: 0.9484, Validation Accuracy: 0.9561, Loss: 0.0318\n",
      "Epoch  28 Batch   55/67 - Train Accuracy: 0.9525, Validation Accuracy: 0.9577, Loss: 0.0315\n",
      "Epoch  29 Batch   11/67 - Train Accuracy: 0.9573, Validation Accuracy: 0.9570, Loss: 0.0278\n",
      "Epoch  29 Batch   22/67 - Train Accuracy: 0.9647, Validation Accuracy: 0.9589, Loss: 0.0285\n",
      "Epoch  29 Batch   33/67 - Train Accuracy: 0.9570, Validation Accuracy: 0.9585, Loss: 0.0309\n",
      "Epoch  29 Batch   44/67 - Train Accuracy: 0.9533, Validation Accuracy: 0.9582, Loss: 0.0299\n",
      "Epoch  29 Batch   55/67 - Train Accuracy: 0.9548, Validation Accuracy: 0.9590, Loss: 0.0304\n",
      "Epoch  30 Batch   11/67 - Train Accuracy: 0.9605, Validation Accuracy: 0.9605, Loss: 0.0268\n",
      "Epoch  30 Batch   22/67 - Train Accuracy: 0.9654, Validation Accuracy: 0.9589, Loss: 0.0272\n",
      "Epoch  30 Batch   33/67 - Train Accuracy: 0.9587, Validation Accuracy: 0.9590, Loss: 0.0295\n",
      "Epoch  30 Batch   44/67 - Train Accuracy: 0.9554, Validation Accuracy: 0.9620, Loss: 0.0283\n",
      "Epoch  30 Batch   55/67 - Train Accuracy: 0.9574, Validation Accuracy: 0.9611, Loss: 0.0288\n",
      "Epoch  31 Batch   11/67 - Train Accuracy: 0.9592, Validation Accuracy: 0.9584, Loss: 0.0262\n",
      "Epoch  31 Batch   22/67 - Train Accuracy: 0.9566, Validation Accuracy: 0.9517, Loss: 0.0257\n",
      "Epoch  31 Batch   33/67 - Train Accuracy: 0.9544, Validation Accuracy: 0.9528, Loss: 0.0284\n",
      "Epoch  31 Batch   44/67 - Train Accuracy: 0.6050, Validation Accuracy: 0.6237, Loss: 0.5736\n",
      "Epoch  31 Batch   55/67 - Train Accuracy: 0.6616, Validation Accuracy: 0.6691, Loss: 0.5212\n",
      "Epoch  32 Batch   11/67 - Train Accuracy: 0.8676, Validation Accuracy: 0.8603, Loss: 0.1471\n",
      "Epoch  32 Batch   22/67 - Train Accuracy: 0.8986, Validation Accuracy: 0.8984, Loss: 0.1005\n",
      "Epoch  32 Batch   33/67 - Train Accuracy: 0.9027, Validation Accuracy: 0.9152, Loss: 0.0840\n",
      "Epoch  32 Batch   44/67 - Train Accuracy: 0.9157, Validation Accuracy: 0.9272, Loss: 0.0657\n",
      "Epoch  32 Batch   55/67 - Train Accuracy: 0.9254, Validation Accuracy: 0.9326, Loss: 0.0578\n",
      "Epoch  33 Batch   11/67 - Train Accuracy: 0.9440, Validation Accuracy: 0.9396, Loss: 0.0443\n",
      "Epoch  33 Batch   22/67 - Train Accuracy: 0.9474, Validation Accuracy: 0.9428, Loss: 0.0427\n",
      "Epoch  33 Batch   33/67 - Train Accuracy: 0.9352, Validation Accuracy: 0.9444, Loss: 0.0446\n",
      "Epoch  33 Batch   44/67 - Train Accuracy: 0.9367, Validation Accuracy: 0.9482, Loss: 0.0411\n",
      "Epoch  33 Batch   55/67 - Train Accuracy: 0.9448, Validation Accuracy: 0.9486, Loss: 0.0394\n",
      "Epoch  34 Batch   11/67 - Train Accuracy: 0.9538, Validation Accuracy: 0.9525, Loss: 0.0337\n",
      "Epoch  34 Batch   22/67 - Train Accuracy: 0.9578, Validation Accuracy: 0.9488, Loss: 0.0338\n",
      "Epoch  34 Batch   33/67 - Train Accuracy: 0.9452, Validation Accuracy: 0.9532, Loss: 0.0361\n",
      "Epoch  34 Batch   44/67 - Train Accuracy: 0.9452, Validation Accuracy: 0.9527, Loss: 0.0341\n",
      "Epoch  34 Batch   55/67 - Train Accuracy: 0.9514, Validation Accuracy: 0.9548, Loss: 0.0333\n",
      "Epoch  35 Batch   11/67 - Train Accuracy: 0.9573, Validation Accuracy: 0.9570, Loss: 0.0292\n",
      "Epoch  35 Batch   22/67 - Train Accuracy: 0.9624, Validation Accuracy: 0.9538, Loss: 0.0295\n",
      "Epoch  35 Batch   33/67 - Train Accuracy: 0.9539, Validation Accuracy: 0.9588, Loss: 0.0317\n",
      "Epoch  35 Batch   44/67 - Train Accuracy: 0.9503, Validation Accuracy: 0.9553, Loss: 0.0303\n",
      "Epoch  35 Batch   55/67 - Train Accuracy: 0.9562, Validation Accuracy: 0.9583, Loss: 0.0299\n"
     ]
    },
    {
     "name": "stdout",
     "output_type": "stream",
     "text": [
      "Epoch  36 Batch   11/67 - Train Accuracy: 0.9581, Validation Accuracy: 0.9607, Loss: 0.0264\n",
      "Epoch  36 Batch   22/67 - Train Accuracy: 0.9662, Validation Accuracy: 0.9548, Loss: 0.0267\n",
      "Epoch  36 Batch   33/67 - Train Accuracy: 0.9562, Validation Accuracy: 0.9584, Loss: 0.0289\n",
      "Epoch  36 Batch   44/67 - Train Accuracy: 0.9535, Validation Accuracy: 0.9578, Loss: 0.0276\n",
      "Epoch  36 Batch   55/67 - Train Accuracy: 0.9574, Validation Accuracy: 0.9597, Loss: 0.0274\n",
      "Epoch  37 Batch   11/67 - Train Accuracy: 0.9601, Validation Accuracy: 0.9626, Loss: 0.0244\n",
      "Epoch  37 Batch   22/67 - Train Accuracy: 0.9658, Validation Accuracy: 0.9564, Loss: 0.0247\n",
      "Epoch  37 Batch   33/67 - Train Accuracy: 0.9589, Validation Accuracy: 0.9609, Loss: 0.0268\n",
      "Epoch  37 Batch   44/67 - Train Accuracy: 0.9576, Validation Accuracy: 0.9589, Loss: 0.0257\n",
      "Epoch  37 Batch   55/67 - Train Accuracy: 0.9606, Validation Accuracy: 0.9633, Loss: 0.0256\n",
      "Epoch  38 Batch   11/67 - Train Accuracy: 0.9628, Validation Accuracy: 0.9620, Loss: 0.0229\n",
      "Epoch  38 Batch   22/67 - Train Accuracy: 0.9685, Validation Accuracy: 0.9568, Loss: 0.0231\n",
      "Epoch  38 Batch   33/67 - Train Accuracy: 0.9610, Validation Accuracy: 0.9642, Loss: 0.0251\n",
      "Epoch  38 Batch   44/67 - Train Accuracy: 0.9588, Validation Accuracy: 0.9617, Loss: 0.0241\n",
      "Epoch  38 Batch   55/67 - Train Accuracy: 0.9624, Validation Accuracy: 0.9643, Loss: 0.0240\n",
      "Epoch  39 Batch   11/67 - Train Accuracy: 0.9625, Validation Accuracy: 0.9637, Loss: 0.0216\n",
      "Epoch  39 Batch   22/67 - Train Accuracy: 0.9675, Validation Accuracy: 0.9599, Loss: 0.0218\n",
      "Epoch  39 Batch   33/67 - Train Accuracy: 0.9637, Validation Accuracy: 0.9653, Loss: 0.0236\n",
      "Epoch  39 Batch   44/67 - Train Accuracy: 0.9625, Validation Accuracy: 0.9643, Loss: 0.0228\n",
      "Epoch  39 Batch   55/67 - Train Accuracy: 0.9638, Validation Accuracy: 0.9667, Loss: 0.0228\n",
      "Model Trained and Saved\n"
     ]
    }
   ],
   "source": [
    "\"\"\"\n",
    "DON'T MODIFY ANYTHING IN THIS CELL\n",
    "\"\"\"\n",
    "def get_accuracy(target, logits):\n",
    "    \"\"\"\n",
    "    Calculate accuracy\n",
    "    \"\"\"\n",
    "    max_seq = max(target.shape[1], logits.shape[1])\n",
    "    if max_seq - target.shape[1]:\n",
    "        target = np.pad(\n",
    "            target,\n",
    "            [(0,0),(0,max_seq - target.shape[1])],\n",
    "            'constant')\n",
    "    if max_seq - logits.shape[1]:\n",
    "        logits = np.pad(\n",
    "            logits,\n",
    "            [(0,0),(0,max_seq - logits.shape[1])],\n",
    "            'constant')\n",
    "\n",
    "    return np.mean(np.equal(target, logits))\n",
    "\n",
    "# Split data to training and validation sets\n",
    "train_source = source_int_text[batch_size:]\n",
    "train_target = target_int_text[batch_size:]\n",
    "valid_source = source_int_text[:batch_size]\n",
    "valid_target = target_int_text[:batch_size]\n",
    "(valid_sources_batch, valid_targets_batch, valid_sources_lengths, valid_targets_lengths ) = next(get_batches(valid_source,\n",
    "                                                                                                             valid_target,\n",
    "                                                                                                             batch_size,\n",
    "                                                                                                             source_vocab_to_int['<PAD>'],\n",
    "                                                                                                             target_vocab_to_int['<PAD>']))                                                                                                  \n",
    "with tf.Session(graph=train_graph) as sess:\n",
    "    sess.run(tf.global_variables_initializer())\n",
    "\n",
    "    for epoch_i in range(epochs):\n",
    "        for batch_i, (source_batch, target_batch, sources_lengths, targets_lengths) in enumerate(\n",
    "                get_batches(train_source, train_target, batch_size,\n",
    "                            source_vocab_to_int['<PAD>'],\n",
    "                            target_vocab_to_int['<PAD>'])):\n",
    "\n",
    "            _, loss = sess.run(\n",
    "                [train_op, cost],\n",
    "                {input_data: source_batch,\n",
    "                 targets: target_batch,\n",
    "                 lr: learning_rate,\n",
    "                 target_sequence_length: targets_lengths,\n",
    "                 source_sequence_length: sources_lengths,\n",
    "                 keep_prob: keep_probability})\n",
    "\n",
    "\n",
    "            if batch_i % display_step == 0 and batch_i > 0:\n",
    "\n",
    "\n",
    "                batch_train_logits = sess.run(\n",
    "                    inference_logits,\n",
    "                    {input_data: source_batch,\n",
    "                     source_sequence_length: sources_lengths,\n",
    "                     target_sequence_length: targets_lengths,\n",
    "                     keep_prob: 1.0})\n",
    "\n",
    "\n",
    "                batch_valid_logits = sess.run(\n",
    "                    inference_logits,\n",
    "                    {input_data: valid_sources_batch,\n",
    "                     source_sequence_length: valid_sources_lengths,\n",
    "                     target_sequence_length: valid_targets_lengths,\n",
    "                     keep_prob: 1.0})\n",
    "\n",
    "                train_acc = get_accuracy(target_batch, batch_train_logits)\n",
    "\n",
    "                valid_acc = get_accuracy(valid_targets_batch, batch_valid_logits)\n",
    "\n",
    "                print('Epoch {:>3} Batch {:>4}/{} - Train Accuracy: {:>6.4f}, Validation Accuracy: {:>6.4f}, Loss: {:>6.4f}'\n",
    "                      .format(epoch_i, batch_i, len(source_int_text) // batch_size, train_acc, valid_acc, loss))\n",
    "\n",
    "    # Save Model\n",
    "    saver = tf.train.Saver()\n",
    "    saver.save(sess, save_path)\n",
    "    print('Model Trained and Saved')"
   ]
  },
  {
   "cell_type": "markdown",
   "metadata": {},
   "source": [
    "### Save Parameters\n",
    "Save the `batch_size` and `save_path` parameters for inference."
   ]
  },
  {
   "cell_type": "code",
   "execution_count": 42,
   "metadata": {
    "collapsed": true
   },
   "outputs": [],
   "source": [
    "\"\"\"\n",
    "DON'T MODIFY ANYTHING IN THIS CELL\n",
    "\"\"\"\n",
    "# Save parameters for checkpoint\n",
    "helper.save_params(save_path)"
   ]
  },
  {
   "cell_type": "markdown",
   "metadata": {},
   "source": [
    "# Checkpoint"
   ]
  },
  {
   "cell_type": "code",
   "execution_count": 43,
   "metadata": {
    "collapsed": true
   },
   "outputs": [],
   "source": [
    "\"\"\"\n",
    "DON'T MODIFY ANYTHING IN THIS CELL\n",
    "\"\"\"\n",
    "import tensorflow as tf\n",
    "import numpy as np\n",
    "import helper\n",
    "import problem_unittests as tests\n",
    "\n",
    "_, (source_vocab_to_int, target_vocab_to_int), (source_int_to_vocab, target_int_to_vocab) = helper.load_preprocess()\n",
    "load_path = helper.load_params()"
   ]
  },
  {
   "cell_type": "markdown",
   "metadata": {},
   "source": [
    "## Sentence to Sequence\n",
    "To feed a sentence into the model for translation, you first need to preprocess it.  Implement the function `sentence_to_seq()` to preprocess new sentences.\n",
    "\n",
    "- Convert the sentence to lowercase\n",
    "- Convert words into ids using `vocab_to_int`\n",
    " - Convert words not in the vocabulary, to the `<UNK>` word id."
   ]
  },
  {
   "cell_type": "code",
   "execution_count": 51,
   "metadata": {},
   "outputs": [
    {
     "name": "stdout",
     "output_type": "stream",
     "text": [
      "Tests Passed\n"
     ]
    }
   ],
   "source": [
    "def sentence_to_seq(sentence, vocab_to_int):\n",
    "    \"\"\"\n",
    "    Convert a sentence to a sequence of ids\n",
    "    :param sentence: String\n",
    "    :param vocab_to_int: Dictionary to go from the words to an id\n",
    "    :return: List of word ids\n",
    "    \"\"\"\n",
    "    # TODO: Implement Function\n",
    "     \n",
    "    return [vocab_to_int[word] if word in vocab_to_int.keys() else vocab_to_int['<UNK>'] for word in sentence.split()]\n",
    "\n",
    "\n",
    "\"\"\"\n",
    "DON'T MODIFY ANYTHING IN THIS CELL THAT IS BELOW THIS LINE\n",
    "\"\"\"\n",
    "tests.test_sentence_to_seq(sentence_to_seq)"
   ]
  },
  {
   "cell_type": "markdown",
   "metadata": {},
   "source": [
    "## Translate\n",
    "This will translate `translate_sentence` from English to French."
   ]
  },
  {
   "cell_type": "code",
   "execution_count": 55,
   "metadata": {},
   "outputs": [
    {
     "name": "stdout",
     "output_type": "stream",
     "text": [
      "INFO:tensorflow:Restoring parameters from checkpoints/dev\n",
      "Input\n",
      "  Word Ids:      [213, 141, 9, 206, 183, 5, 41, 21, 180, 29, 136, 206, 146, 225, 208, 189]\n",
      "  English Words: ['the', 'united', 'states', 'is', 'sometimes', 'mild', 'during', 'june', ',', 'and', 'it', 'is', 'cold', 'in', 'january', '.']\n",
      "\n",
      "Prediction\n",
      "  Word Ids:      [277, 175, 155, 212, 289, 33, 230, 157, 97, 85, 226, 192, 33, 6, 251, 1]\n",
      "  French Words: les états-unis est parfois doux en juin , et il fait froid en janvier . <EOS>\n"
     ]
    }
   ],
   "source": [
    "translate_sentence = 'the united states is sometimes mild during june , and it is cold in january .'\n",
    "\n",
    "\n",
    "\"\"\"\n",
    "DON'T MODIFY ANYTHING IN THIS CELL\n",
    "\"\"\"\n",
    "translate_sentence = sentence_to_seq(translate_sentence, source_vocab_to_int)\n",
    "\n",
    "loaded_graph = tf.Graph()\n",
    "with tf.Session(graph=loaded_graph) as sess:\n",
    "    # Load saved model\n",
    "    loader = tf.train.import_meta_graph(load_path + '.meta')\n",
    "    loader.restore(sess, load_path)\n",
    "\n",
    "    input_data = loaded_graph.get_tensor_by_name('input:0')\n",
    "    logits = loaded_graph.get_tensor_by_name('predictions:0')\n",
    "    target_sequence_length = loaded_graph.get_tensor_by_name('target_sequence_length:0')\n",
    "    source_sequence_length = loaded_graph.get_tensor_by_name('source_sequence_length:0')\n",
    "    keep_prob = loaded_graph.get_tensor_by_name('keep_prob:0')\n",
    "\n",
    "    translate_logits = sess.run(logits, {input_data: [translate_sentence]*batch_size,\n",
    "                                         target_sequence_length: [len(translate_sentence)*2]*batch_size,\n",
    "                                         source_sequence_length: [len(translate_sentence)]*batch_size,\n",
    "                                         keep_prob: 1.0})[0]\n",
    "\n",
    "print('Input')\n",
    "print('  Word Ids:      {}'.format([i for i in translate_sentence]))\n",
    "print('  English Words: {}'.format([source_int_to_vocab[i] for i in translate_sentence]))\n",
    "\n",
    "print('\\nPrediction')\n",
    "print('  Word Ids:      {}'.format([i for i in translate_logits]))\n",
    "print('  French Words: {}'.format(\" \".join([target_int_to_vocab[i] for i in translate_logits])))\n"
   ]
  },
  {
   "cell_type": "markdown",
   "metadata": {},
   "source": [
    "## Imperfect Translation\n",
    "You might notice that some sentences translate better than others.  Since the dataset you're using only has a vocabulary of 227 English words of the thousands that you use, you're only going to see good results using these words.  For this project, you don't need a perfect translation. However, if you want to create a better translation model, you'll need better data.\n",
    "\n",
    "You can train on the [WMT10 French-English corpus](http://www.statmt.org/wmt10/training-giga-fren.tar).  This dataset has more vocabulary and richer in topics discussed.  However, this will take you days to train, so make sure you've a GPU and the neural network is performing well on dataset we provided.  Just make sure you play with the WMT10 corpus after you've submitted this project.\n",
    "## Submitting This Project\n",
    "When submitting this project, make sure to run all the cells before saving the notebook. Save the notebook file as \"dlnd_language_translation.ipynb\" and save it as a HTML file under \"File\" -> \"Download as\". Include the \"helper.py\" and \"problem_unittests.py\" files in your submission."
   ]
  }
 ],
 "metadata": {
  "anaconda-cloud": {},
  "kernelspec": {
   "display_name": "Python 3",
   "language": "python",
   "name": "python3"
  },
  "language_info": {
   "codemirror_mode": {
    "name": "ipython",
    "version": 3
   },
   "file_extension": ".py",
   "mimetype": "text/x-python",
   "name": "python",
   "nbconvert_exporter": "python",
   "pygments_lexer": "ipython3",
   "version": "3.5.3"
  }
 },
 "nbformat": 4,
 "nbformat_minor": 1
}
